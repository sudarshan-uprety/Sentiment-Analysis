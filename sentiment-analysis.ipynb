{
 "cells": [
  {
   "cell_type": "markdown",
   "id": "dc70be91",
   "metadata": {},
   "source": [
    "# Importing required libraries"
   ]
  },
  {
   "cell_type": "code",
   "execution_count": 41,
   "id": "94c770db",
   "metadata": {},
   "outputs": [],
   "source": [
    "import numpy as np\n",
    "import pandas as pd\n",
    "import seaborn as sns\n",
    "import nltk\n",
    "import string\n",
    "import matplotlib.pyplot as plt\n",
    "from sklearn.model_selection import train_test_split\n",
    "from sklearn.feature_extraction.text import TfidfVectorizer\n",
    "from sklearn.linear_model import LogisticRegression\n",
    "from sklearn.metrics import accuracy_score, confusion_matrix, classification_report,precision_score,precision_score\n",
    "\n",
    "from nltk.corpus import stopwords\n",
    "from nltk.tokenize import word_tokenize\n",
    "from nltk.stem import PorterStemmer\n",
    "from nltk.stem import WordNetLemmatizer\n",
    "from sklearn.feature_extraction.text import TfidfVectorizer\n",
    "from sklearn.model_selection import train_test_split"
   ]
  },
  {
   "cell_type": "markdown",
   "id": "2762b049",
   "metadata": {},
   "source": [
    "# Importing the data(csv file)"
   ]
  },
  {
   "cell_type": "code",
   "execution_count": 173,
   "id": "77fd3119",
   "metadata": {},
   "outputs": [],
   "source": [
    "df=pd.read_csv('training.1600000.processed.noemoticon.csv',encoding='latin-1',low_memory=True)"
   ]
  },
  {
   "cell_type": "code",
   "execution_count": 174,
   "id": "9995abbf",
   "metadata": {},
   "outputs": [
    {
     "data": {
      "text/html": [
       "<div>\n",
       "<style scoped>\n",
       "    .dataframe tbody tr th:only-of-type {\n",
       "        vertical-align: middle;\n",
       "    }\n",
       "\n",
       "    .dataframe tbody tr th {\n",
       "        vertical-align: top;\n",
       "    }\n",
       "\n",
       "    .dataframe thead th {\n",
       "        text-align: right;\n",
       "    }\n",
       "</style>\n",
       "<table border=\"1\" class=\"dataframe\">\n",
       "  <thead>\n",
       "    <tr style=\"text-align: right;\">\n",
       "      <th></th>\n",
       "      <th>polarity of tweet</th>\n",
       "      <th>id of the tweet</th>\n",
       "      <th>date of the tweet</th>\n",
       "      <th>query</th>\n",
       "      <th>user</th>\n",
       "      <th>text of the tweet</th>\n",
       "    </tr>\n",
       "  </thead>\n",
       "  <tbody>\n",
       "    <tr>\n",
       "      <th>0</th>\n",
       "      <td>0</td>\n",
       "      <td>1467810672</td>\n",
       "      <td>Mon Apr 06 22:19:49 PDT 2009</td>\n",
       "      <td>NO_QUERY</td>\n",
       "      <td>scotthamilton</td>\n",
       "      <td>is upset that he can't update his Facebook by ...</td>\n",
       "    </tr>\n",
       "    <tr>\n",
       "      <th>1</th>\n",
       "      <td>0</td>\n",
       "      <td>1467810917</td>\n",
       "      <td>Mon Apr 06 22:19:53 PDT 2009</td>\n",
       "      <td>NO_QUERY</td>\n",
       "      <td>mattycus</td>\n",
       "      <td>@Kenichan I dived many times for the ball. Man...</td>\n",
       "    </tr>\n",
       "    <tr>\n",
       "      <th>2</th>\n",
       "      <td>0</td>\n",
       "      <td>1467811184</td>\n",
       "      <td>Mon Apr 06 22:19:57 PDT 2009</td>\n",
       "      <td>NO_QUERY</td>\n",
       "      <td>ElleCTF</td>\n",
       "      <td>my whole body feels itchy and like its on fire</td>\n",
       "    </tr>\n",
       "    <tr>\n",
       "      <th>3</th>\n",
       "      <td>0</td>\n",
       "      <td>1467811193</td>\n",
       "      <td>Mon Apr 06 22:19:57 PDT 2009</td>\n",
       "      <td>NO_QUERY</td>\n",
       "      <td>Karoli</td>\n",
       "      <td>@nationwideclass no, it's not behaving at all....</td>\n",
       "    </tr>\n",
       "    <tr>\n",
       "      <th>4</th>\n",
       "      <td>0</td>\n",
       "      <td>1467811372</td>\n",
       "      <td>Mon Apr 06 22:20:00 PDT 2009</td>\n",
       "      <td>NO_QUERY</td>\n",
       "      <td>joy_wolf</td>\n",
       "      <td>@Kwesidei not the whole crew</td>\n",
       "    </tr>\n",
       "  </tbody>\n",
       "</table>\n",
       "</div>"
      ],
      "text/plain": [
       "   polarity of tweet   id of the tweet             date of the tweet  \\\n",
       "0                   0       1467810672  Mon Apr 06 22:19:49 PDT 2009   \n",
       "1                   0       1467810917  Mon Apr 06 22:19:53 PDT 2009   \n",
       "2                   0       1467811184  Mon Apr 06 22:19:57 PDT 2009   \n",
       "3                   0       1467811193  Mon Apr 06 22:19:57 PDT 2009   \n",
       "4                   0       1467811372  Mon Apr 06 22:20:00 PDT 2009   \n",
       "\n",
       "      query           user                                 text of the tweet   \n",
       "0  NO_QUERY  scotthamilton  is upset that he can't update his Facebook by ...  \n",
       "1  NO_QUERY       mattycus  @Kenichan I dived many times for the ball. Man...  \n",
       "2  NO_QUERY        ElleCTF    my whole body feels itchy and like its on fire   \n",
       "3  NO_QUERY         Karoli  @nationwideclass no, it's not behaving at all....  \n",
       "4  NO_QUERY       joy_wolf                      @Kwesidei not the whole crew   "
      ]
     },
     "execution_count": 174,
     "metadata": {},
     "output_type": "execute_result"
    }
   ],
   "source": [
    "df.head(5)"
   ]
  },
  {
   "cell_type": "code",
   "execution_count": 175,
   "id": "09ccf62f",
   "metadata": {},
   "outputs": [],
   "source": [
    "df.drop(columns=['id of the tweet','query','user','date of the tweet'],inplace=True)"
   ]
  },
  {
   "cell_type": "code",
   "execution_count": 176,
   "id": "82c2462e",
   "metadata": {},
   "outputs": [
    {
     "data": {
      "text/html": [
       "<div>\n",
       "<style scoped>\n",
       "    .dataframe tbody tr th:only-of-type {\n",
       "        vertical-align: middle;\n",
       "    }\n",
       "\n",
       "    .dataframe tbody tr th {\n",
       "        vertical-align: top;\n",
       "    }\n",
       "\n",
       "    .dataframe thead th {\n",
       "        text-align: right;\n",
       "    }\n",
       "</style>\n",
       "<table border=\"1\" class=\"dataframe\">\n",
       "  <thead>\n",
       "    <tr style=\"text-align: right;\">\n",
       "      <th></th>\n",
       "      <th>polarity of tweet</th>\n",
       "      <th>text of the tweet</th>\n",
       "    </tr>\n",
       "  </thead>\n",
       "  <tbody>\n",
       "    <tr>\n",
       "      <th>0</th>\n",
       "      <td>0</td>\n",
       "      <td>is upset that he can't update his Facebook by ...</td>\n",
       "    </tr>\n",
       "    <tr>\n",
       "      <th>1</th>\n",
       "      <td>0</td>\n",
       "      <td>@Kenichan I dived many times for the ball. Man...</td>\n",
       "    </tr>\n",
       "    <tr>\n",
       "      <th>2</th>\n",
       "      <td>0</td>\n",
       "      <td>my whole body feels itchy and like its on fire</td>\n",
       "    </tr>\n",
       "    <tr>\n",
       "      <th>3</th>\n",
       "      <td>0</td>\n",
       "      <td>@nationwideclass no, it's not behaving at all....</td>\n",
       "    </tr>\n",
       "    <tr>\n",
       "      <th>4</th>\n",
       "      <td>0</td>\n",
       "      <td>@Kwesidei not the whole crew</td>\n",
       "    </tr>\n",
       "  </tbody>\n",
       "</table>\n",
       "</div>"
      ],
      "text/plain": [
       "   polarity of tweet                                  text of the tweet \n",
       "0                   0  is upset that he can't update his Facebook by ...\n",
       "1                   0  @Kenichan I dived many times for the ball. Man...\n",
       "2                   0    my whole body feels itchy and like its on fire \n",
       "3                   0  @nationwideclass no, it's not behaving at all....\n",
       "4                   0                      @Kwesidei not the whole crew "
      ]
     },
     "execution_count": 176,
     "metadata": {},
     "output_type": "execute_result"
    }
   ],
   "source": [
    "df.head(5)"
   ]
  },
  {
   "cell_type": "markdown",
   "id": "76719f74",
   "metadata": {},
   "source": [
    "# Data Cleaning and Preprocessing"
   ]
  },
  {
   "cell_type": "code",
   "execution_count": 177,
   "id": "fb7e7072",
   "metadata": {},
   "outputs": [
    {
     "data": {
      "text/plain": [
       "(1048572, 2)"
      ]
     },
     "execution_count": 177,
     "metadata": {},
     "output_type": "execute_result"
    }
   ],
   "source": [
    "df.shape"
   ]
  },
  {
   "cell_type": "code",
   "execution_count": 178,
   "id": "619d9d53",
   "metadata": {},
   "outputs": [
    {
     "data": {
      "text/plain": [
       "2097144"
      ]
     },
     "execution_count": 178,
     "metadata": {},
     "output_type": "execute_result"
    }
   ],
   "source": [
    "df.size"
   ]
  },
  {
   "cell_type": "code",
   "execution_count": 179,
   "id": "a9559c19",
   "metadata": {},
   "outputs": [
    {
     "data": {
      "text/plain": [
       "polarity of tweet     0\n",
       "text of the tweet     0\n",
       "dtype: int64"
      ]
     },
     "execution_count": 179,
     "metadata": {},
     "output_type": "execute_result"
    }
   ],
   "source": [
    "df.isnull().sum()"
   ]
  },
  {
   "cell_type": "code",
   "execution_count": 180,
   "id": "ebda77db",
   "metadata": {},
   "outputs": [
    {
     "data": {
      "text/plain": [
       "polarity of tweet     0\n",
       "text of the tweet     0\n",
       "dtype: int64"
      ]
     },
     "execution_count": 180,
     "metadata": {},
     "output_type": "execute_result"
    }
   ],
   "source": [
    "df.isna().sum()"
   ]
  },
  {
   "cell_type": "code",
   "execution_count": 181,
   "id": "a3defc62",
   "metadata": {},
   "outputs": [
    {
     "data": {
      "text/plain": [
       "0          False\n",
       "1          False\n",
       "2          False\n",
       "3          False\n",
       "4          False\n",
       "           ...  \n",
       "1048567    False\n",
       "1048568    False\n",
       "1048569    False\n",
       "1048570    False\n",
       "1048571    False\n",
       "Length: 1048572, dtype: bool"
      ]
     },
     "execution_count": 181,
     "metadata": {},
     "output_type": "execute_result"
    }
   ],
   "source": [
    "df.duplicated()"
   ]
  },
  {
   "cell_type": "code",
   "execution_count": 182,
   "id": "d512ca29",
   "metadata": {},
   "outputs": [],
   "source": [
    "df.drop_duplicates(inplace=True)"
   ]
  },
  {
   "cell_type": "code",
   "execution_count": 183,
   "id": "e8a8a564",
   "metadata": {},
   "outputs": [
    {
     "data": {
      "text/plain": [
       "(1036908, 2)"
      ]
     },
     "execution_count": 183,
     "metadata": {},
     "output_type": "execute_result"
    }
   ],
   "source": [
    "df.shape"
   ]
  },
  {
   "cell_type": "code",
   "execution_count": 184,
   "id": "45e9377f",
   "metadata": {},
   "outputs": [],
   "source": [
    "df.columns=['target','text']"
   ]
  },
  {
   "cell_type": "code",
   "execution_count": 185,
   "id": "5015ad8c",
   "metadata": {},
   "outputs": [
    {
     "data": {
      "text/plain": [
       "0    790181\n",
       "4    246727\n",
       "Name: target, dtype: int64"
      ]
     },
     "execution_count": 185,
     "metadata": {},
     "output_type": "execute_result"
    }
   ],
   "source": [
    "df['target'].value_counts()"
   ]
  },
  {
   "cell_type": "code",
   "execution_count": 187,
   "id": "4aaeb027",
   "metadata": {},
   "outputs": [],
   "source": [
    "import re"
   ]
  },
  {
   "cell_type": "code",
   "execution_count": 188,
   "id": "a8a95629",
   "metadata": {},
   "outputs": [],
   "source": [
    "ps=PorterStemmer()"
   ]
  },
  {
   "cell_type": "code",
   "execution_count": 189,
   "id": "a909bc80",
   "metadata": {},
   "outputs": [],
   "source": [
    "stop_words=nltk.corpus.stopwords.words('english')"
   ]
  },
  {
   "cell_type": "code",
   "execution_count": 190,
   "id": "400a0312",
   "metadata": {},
   "outputs": [],
   "source": [
    "def clean_text1(text):\n",
    "    text=\"\".join([c for c in text if c not in string.punctuation])\n",
    "    tokens=re.split('\\W+', text)\n",
    "    text=[word for word in tokens if word not in stop_words]\n",
    "    return text"
   ]
  },
  {
   "cell_type": "code",
   "execution_count": 191,
   "id": "0c69a2ae",
   "metadata": {},
   "outputs": [],
   "source": [
    "df[\"text1\"] = df[\"text\"].apply(lambda x: clean_text1(x.lower()))"
   ]
  },
  {
   "cell_type": "code",
   "execution_count": 192,
   "id": "c79ff0a0",
   "metadata": {},
   "outputs": [
    {
     "data": {
      "text/html": [
       "<div>\n",
       "<style scoped>\n",
       "    .dataframe tbody tr th:only-of-type {\n",
       "        vertical-align: middle;\n",
       "    }\n",
       "\n",
       "    .dataframe tbody tr th {\n",
       "        vertical-align: top;\n",
       "    }\n",
       "\n",
       "    .dataframe thead th {\n",
       "        text-align: right;\n",
       "    }\n",
       "</style>\n",
       "<table border=\"1\" class=\"dataframe\">\n",
       "  <thead>\n",
       "    <tr style=\"text-align: right;\">\n",
       "      <th></th>\n",
       "      <th>target</th>\n",
       "      <th>text</th>\n",
       "      <th>text1</th>\n",
       "    </tr>\n",
       "  </thead>\n",
       "  <tbody>\n",
       "    <tr>\n",
       "      <th>0</th>\n",
       "      <td>0</td>\n",
       "      <td>is upset that he can't update his Facebook by ...</td>\n",
       "      <td>[upset, cant, update, facebook, texting, might...</td>\n",
       "    </tr>\n",
       "    <tr>\n",
       "      <th>1</th>\n",
       "      <td>0</td>\n",
       "      <td>@Kenichan I dived many times for the ball. Man...</td>\n",
       "      <td>[kenichan, dived, many, times, ball, managed, ...</td>\n",
       "    </tr>\n",
       "    <tr>\n",
       "      <th>2</th>\n",
       "      <td>0</td>\n",
       "      <td>my whole body feels itchy and like its on fire</td>\n",
       "      <td>[whole, body, feels, itchy, like, fire, ]</td>\n",
       "    </tr>\n",
       "    <tr>\n",
       "      <th>3</th>\n",
       "      <td>0</td>\n",
       "      <td>@nationwideclass no, it's not behaving at all....</td>\n",
       "      <td>[nationwideclass, behaving, im, mad, cant, see, ]</td>\n",
       "    </tr>\n",
       "    <tr>\n",
       "      <th>4</th>\n",
       "      <td>0</td>\n",
       "      <td>@Kwesidei not the whole crew</td>\n",
       "      <td>[kwesidei, whole, crew, ]</td>\n",
       "    </tr>\n",
       "  </tbody>\n",
       "</table>\n",
       "</div>"
      ],
      "text/plain": [
       "   target                                               text  \\\n",
       "0       0  is upset that he can't update his Facebook by ...   \n",
       "1       0  @Kenichan I dived many times for the ball. Man...   \n",
       "2       0    my whole body feels itchy and like its on fire    \n",
       "3       0  @nationwideclass no, it's not behaving at all....   \n",
       "4       0                      @Kwesidei not the whole crew    \n",
       "\n",
       "                                               text1  \n",
       "0  [upset, cant, update, facebook, texting, might...  \n",
       "1  [kenichan, dived, many, times, ball, managed, ...  \n",
       "2          [whole, body, feels, itchy, like, fire, ]  \n",
       "3  [nationwideclass, behaving, im, mad, cant, see, ]  \n",
       "4                          [kwesidei, whole, crew, ]  "
      ]
     },
     "execution_count": 192,
     "metadata": {},
     "output_type": "execute_result"
    }
   ],
   "source": [
    "df.head(5)"
   ]
  },
  {
   "cell_type": "code",
   "execution_count": 193,
   "id": "069000d6",
   "metadata": {},
   "outputs": [],
   "source": [
    "def stemming(tokenized_word):\n",
    "    text=[ps.stem(word) for word in tokenized_word]\n",
    "    return text"
   ]
  },
  {
   "cell_type": "code",
   "execution_count": 194,
   "id": "f1c2f70e",
   "metadata": {},
   "outputs": [],
   "source": [
    "df['text1']=df['text1'].apply(lambda x: stemming(x))"
   ]
  },
  {
   "cell_type": "code",
   "execution_count": 195,
   "id": "95613d5b",
   "metadata": {},
   "outputs": [
    {
     "data": {
      "text/html": [
       "<div>\n",
       "<style scoped>\n",
       "    .dataframe tbody tr th:only-of-type {\n",
       "        vertical-align: middle;\n",
       "    }\n",
       "\n",
       "    .dataframe tbody tr th {\n",
       "        vertical-align: top;\n",
       "    }\n",
       "\n",
       "    .dataframe thead th {\n",
       "        text-align: right;\n",
       "    }\n",
       "</style>\n",
       "<table border=\"1\" class=\"dataframe\">\n",
       "  <thead>\n",
       "    <tr style=\"text-align: right;\">\n",
       "      <th></th>\n",
       "      <th>target</th>\n",
       "      <th>text</th>\n",
       "      <th>text1</th>\n",
       "    </tr>\n",
       "  </thead>\n",
       "  <tbody>\n",
       "    <tr>\n",
       "      <th>91277</th>\n",
       "      <td>0</td>\n",
       "      <td>they have wifi in the terminal. Otherwise I wo...</td>\n",
       "      <td>[wifi, termin, otherwis, wont, tweet, late, tu...</td>\n",
       "    </tr>\n",
       "    <tr>\n",
       "      <th>202259</th>\n",
       "      <td>0</td>\n",
       "      <td>@JaymeFoxx sounds like a great saturday. I can...</td>\n",
       "      <td>[jaymefoxx, sound, like, great, saturday, cant...</td>\n",
       "    </tr>\n",
       "    <tr>\n",
       "      <th>590614</th>\n",
       "      <td>0</td>\n",
       "      <td>@IAMJREAL hey real i wont be able to make it s...</td>\n",
       "      <td>[iamjreal, hey, real, wont, abl, make, sat, du...</td>\n",
       "    </tr>\n",
       "    <tr>\n",
       "      <th>578998</th>\n",
       "      <td>0</td>\n",
       "      <td>I feel a lot better! I was sleeping most of to...</td>\n",
       "      <td>[feel, lot, better, sleep, today, bad, miss, f...</td>\n",
       "    </tr>\n",
       "    <tr>\n",
       "      <th>1019007</th>\n",
       "      <td>4</td>\n",
       "      <td>@everydaystrange And - ahem - there they are. ...</td>\n",
       "      <td>[everydaystrang, ahem, wow, awesom, ]</td>\n",
       "    </tr>\n",
       "    <tr>\n",
       "      <th>570126</th>\n",
       "      <td>0</td>\n",
       "      <td>I dont get this</td>\n",
       "      <td>[dont, get, ]</td>\n",
       "    </tr>\n",
       "    <tr>\n",
       "      <th>900327</th>\n",
       "      <td>4</td>\n",
       "      <td>Morning.. Coffee and fresh air</td>\n",
       "      <td>[morn, coffe, fresh, air, ]</td>\n",
       "    </tr>\n",
       "    <tr>\n",
       "      <th>336005</th>\n",
       "      <td>0</td>\n",
       "      <td>@emilyawilliams your powers out? icky!</td>\n",
       "      <td>[emilyawilliam, power, icki, ]</td>\n",
       "    </tr>\n",
       "    <tr>\n",
       "      <th>832915</th>\n",
       "      <td>4</td>\n",
       "      <td>Gaga in Europe and Bizarres in America.. o_O w...</td>\n",
       "      <td>[gaga, europ, bizarr, america, oo, strang, wor...</td>\n",
       "    </tr>\n",
       "    <tr>\n",
       "      <th>580049</th>\n",
       "      <td>0</td>\n",
       "      <td>I can't even get the OSX Java update to D/L</td>\n",
       "      <td>[cant, even, get, osx, java, updat, dl, ]</td>\n",
       "    </tr>\n",
       "    <tr>\n",
       "      <th>10945</th>\n",
       "      <td>0</td>\n",
       "      <td>rottedd</td>\n",
       "      <td>[rottedd, ]</td>\n",
       "    </tr>\n",
       "    <tr>\n",
       "      <th>14289</th>\n",
       "      <td>0</td>\n",
       "      <td>Bowling! I suck</td>\n",
       "      <td>[bowl, suck, ]</td>\n",
       "    </tr>\n",
       "    <tr>\n",
       "      <th>654571</th>\n",
       "      <td>0</td>\n",
       "      <td>lunch with my boy then working once again</td>\n",
       "      <td>[lunch, boy, work, ]</td>\n",
       "    </tr>\n",
       "    <tr>\n",
       "      <th>1034872</th>\n",
       "      <td>4</td>\n",
       "      <td>@misstakentrish Have I ever told you that I lo...</td>\n",
       "      <td>[misstakentrish, ever, told, love, lt3]</td>\n",
       "    </tr>\n",
       "    <tr>\n",
       "      <th>370798</th>\n",
       "      <td>0</td>\n",
       "      <td>close to death</td>\n",
       "      <td>[close, death, ]</td>\n",
       "    </tr>\n",
       "  </tbody>\n",
       "</table>\n",
       "</div>"
      ],
      "text/plain": [
       "         target                                               text  \\\n",
       "91277         0  they have wifi in the terminal. Otherwise I wo...   \n",
       "202259        0  @JaymeFoxx sounds like a great saturday. I can...   \n",
       "590614        0  @IAMJREAL hey real i wont be able to make it s...   \n",
       "578998        0  I feel a lot better! I was sleeping most of to...   \n",
       "1019007       4  @everydaystrange And - ahem - there they are. ...   \n",
       "570126        0                                   I dont get this    \n",
       "900327        4                   Morning.. Coffee and fresh air     \n",
       "336005        0            @emilyawilliams your powers out? icky!    \n",
       "832915        4  Gaga in Europe and Bizarres in America.. o_O w...   \n",
       "580049        0       I can't even get the OSX Java update to D/L    \n",
       "10945         0                                           rottedd    \n",
       "14289         0                                   Bowling! I suck    \n",
       "654571        0         lunch with my boy then working once again    \n",
       "1034872       4  @misstakentrish Have I ever told you that I lo...   \n",
       "370798        0                                    close to death    \n",
       "\n",
       "                                                     text1  \n",
       "91277    [wifi, termin, otherwis, wont, tweet, late, tu...  \n",
       "202259   [jaymefoxx, sound, like, great, saturday, cant...  \n",
       "590614   [iamjreal, hey, real, wont, abl, make, sat, du...  \n",
       "578998   [feel, lot, better, sleep, today, bad, miss, f...  \n",
       "1019007              [everydaystrang, ahem, wow, awesom, ]  \n",
       "570126                                       [dont, get, ]  \n",
       "900327                         [morn, coffe, fresh, air, ]  \n",
       "336005                      [emilyawilliam, power, icki, ]  \n",
       "832915   [gaga, europ, bizarr, america, oo, strang, wor...  \n",
       "580049           [cant, even, get, osx, java, updat, dl, ]  \n",
       "10945                                          [rottedd, ]  \n",
       "14289                                       [bowl, suck, ]  \n",
       "654571                                [lunch, boy, work, ]  \n",
       "1034872            [misstakentrish, ever, told, love, lt3]  \n",
       "370798                                    [close, death, ]  "
      ]
     },
     "execution_count": 195,
     "metadata": {},
     "output_type": "execute_result"
    }
   ],
   "source": [
    "df.sample(15)"
   ]
  },
  {
   "cell_type": "code",
   "execution_count": 196,
   "id": "f32c9928",
   "metadata": {},
   "outputs": [],
   "source": [
    "df.drop(columns=['text'],inplace=True)"
   ]
  },
  {
   "cell_type": "code",
   "execution_count": 197,
   "id": "975205f5",
   "metadata": {},
   "outputs": [
    {
     "data": {
      "text/html": [
       "<div>\n",
       "<style scoped>\n",
       "    .dataframe tbody tr th:only-of-type {\n",
       "        vertical-align: middle;\n",
       "    }\n",
       "\n",
       "    .dataframe tbody tr th {\n",
       "        vertical-align: top;\n",
       "    }\n",
       "\n",
       "    .dataframe thead th {\n",
       "        text-align: right;\n",
       "    }\n",
       "</style>\n",
       "<table border=\"1\" class=\"dataframe\">\n",
       "  <thead>\n",
       "    <tr style=\"text-align: right;\">\n",
       "      <th></th>\n",
       "      <th>target</th>\n",
       "      <th>text1</th>\n",
       "    </tr>\n",
       "  </thead>\n",
       "  <tbody>\n",
       "    <tr>\n",
       "      <th>0</th>\n",
       "      <td>0</td>\n",
       "      <td>[upset, cant, updat, facebook, text, might, cr...</td>\n",
       "    </tr>\n",
       "    <tr>\n",
       "      <th>1</th>\n",
       "      <td>0</td>\n",
       "      <td>[kenichan, dive, mani, time, ball, manag, save...</td>\n",
       "    </tr>\n",
       "    <tr>\n",
       "      <th>2</th>\n",
       "      <td>0</td>\n",
       "      <td>[whole, bodi, feel, itchi, like, fire, ]</td>\n",
       "    </tr>\n",
       "    <tr>\n",
       "      <th>3</th>\n",
       "      <td>0</td>\n",
       "      <td>[nationwideclass, behav, im, mad, cant, see, ]</td>\n",
       "    </tr>\n",
       "    <tr>\n",
       "      <th>4</th>\n",
       "      <td>0</td>\n",
       "      <td>[kwesidei, whole, crew, ]</td>\n",
       "    </tr>\n",
       "    <tr>\n",
       "      <th>...</th>\n",
       "      <td>...</td>\n",
       "      <td>...</td>\n",
       "    </tr>\n",
       "    <tr>\n",
       "      <th>1048567</th>\n",
       "      <td>4</td>\n",
       "      <td>[grandma, make, dinenr, mum, ]</td>\n",
       "    </tr>\n",
       "    <tr>\n",
       "      <th>1048568</th>\n",
       "      <td>4</td>\n",
       "      <td>[midmorn, snack, time, bowl, chees, noodl, yum, ]</td>\n",
       "    </tr>\n",
       "    <tr>\n",
       "      <th>1048569</th>\n",
       "      <td>4</td>\n",
       "      <td>[shadela, say, like, termini, movi, come, like...</td>\n",
       "    </tr>\n",
       "    <tr>\n",
       "      <th>1048570</th>\n",
       "      <td>4</td>\n",
       "      <td>[destinyhope92, im, great, thaank, wbuu]</td>\n",
       "    </tr>\n",
       "    <tr>\n",
       "      <th>1048571</th>\n",
       "      <td>4</td>\n",
       "      <td>[cant, wait, til, date, weekend, ]</td>\n",
       "    </tr>\n",
       "  </tbody>\n",
       "</table>\n",
       "<p>1036908 rows × 2 columns</p>\n",
       "</div>"
      ],
      "text/plain": [
       "         target                                              text1\n",
       "0             0  [upset, cant, updat, facebook, text, might, cr...\n",
       "1             0  [kenichan, dive, mani, time, ball, manag, save...\n",
       "2             0           [whole, bodi, feel, itchi, like, fire, ]\n",
       "3             0     [nationwideclass, behav, im, mad, cant, see, ]\n",
       "4             0                          [kwesidei, whole, crew, ]\n",
       "...         ...                                                ...\n",
       "1048567       4                     [grandma, make, dinenr, mum, ]\n",
       "1048568       4  [midmorn, snack, time, bowl, chees, noodl, yum, ]\n",
       "1048569       4  [shadela, say, like, termini, movi, come, like...\n",
       "1048570       4           [destinyhope92, im, great, thaank, wbuu]\n",
       "1048571       4                 [cant, wait, til, date, weekend, ]\n",
       "\n",
       "[1036908 rows x 2 columns]"
      ]
     },
     "execution_count": 197,
     "metadata": {},
     "output_type": "execute_result"
    }
   ],
   "source": [
    "df"
   ]
  },
  {
   "cell_type": "code",
   "execution_count": 198,
   "id": "61f37f0f",
   "metadata": {},
   "outputs": [],
   "source": [
    "df['text2']=df['text1'].apply(lambda x: ' '.join(x))"
   ]
  },
  {
   "cell_type": "code",
   "execution_count": 199,
   "id": "f10deb50",
   "metadata": {},
   "outputs": [
    {
     "data": {
      "text/html": [
       "<div>\n",
       "<style scoped>\n",
       "    .dataframe tbody tr th:only-of-type {\n",
       "        vertical-align: middle;\n",
       "    }\n",
       "\n",
       "    .dataframe tbody tr th {\n",
       "        vertical-align: top;\n",
       "    }\n",
       "\n",
       "    .dataframe thead th {\n",
       "        text-align: right;\n",
       "    }\n",
       "</style>\n",
       "<table border=\"1\" class=\"dataframe\">\n",
       "  <thead>\n",
       "    <tr style=\"text-align: right;\">\n",
       "      <th></th>\n",
       "      <th>target</th>\n",
       "      <th>text1</th>\n",
       "      <th>text2</th>\n",
       "    </tr>\n",
       "  </thead>\n",
       "  <tbody>\n",
       "    <tr>\n",
       "      <th>0</th>\n",
       "      <td>0</td>\n",
       "      <td>[upset, cant, updat, facebook, text, might, cr...</td>\n",
       "      <td>upset cant updat facebook text might cri resul...</td>\n",
       "    </tr>\n",
       "    <tr>\n",
       "      <th>1</th>\n",
       "      <td>0</td>\n",
       "      <td>[kenichan, dive, mani, time, ball, manag, save...</td>\n",
       "      <td>kenichan dive mani time ball manag save 50 res...</td>\n",
       "    </tr>\n",
       "    <tr>\n",
       "      <th>2</th>\n",
       "      <td>0</td>\n",
       "      <td>[whole, bodi, feel, itchi, like, fire, ]</td>\n",
       "      <td>whole bodi feel itchi like fire</td>\n",
       "    </tr>\n",
       "    <tr>\n",
       "      <th>3</th>\n",
       "      <td>0</td>\n",
       "      <td>[nationwideclass, behav, im, mad, cant, see, ]</td>\n",
       "      <td>nationwideclass behav im mad cant see</td>\n",
       "    </tr>\n",
       "    <tr>\n",
       "      <th>4</th>\n",
       "      <td>0</td>\n",
       "      <td>[kwesidei, whole, crew, ]</td>\n",
       "      <td>kwesidei whole crew</td>\n",
       "    </tr>\n",
       "    <tr>\n",
       "      <th>...</th>\n",
       "      <td>...</td>\n",
       "      <td>...</td>\n",
       "      <td>...</td>\n",
       "    </tr>\n",
       "    <tr>\n",
       "      <th>1048567</th>\n",
       "      <td>4</td>\n",
       "      <td>[grandma, make, dinenr, mum, ]</td>\n",
       "      <td>grandma make dinenr mum</td>\n",
       "    </tr>\n",
       "    <tr>\n",
       "      <th>1048568</th>\n",
       "      <td>4</td>\n",
       "      <td>[midmorn, snack, time, bowl, chees, noodl, yum, ]</td>\n",
       "      <td>midmorn snack time bowl chees noodl yum</td>\n",
       "    </tr>\n",
       "    <tr>\n",
       "      <th>1048569</th>\n",
       "      <td>4</td>\n",
       "      <td>[shadela, say, like, termini, movi, come, like...</td>\n",
       "      <td>shadela say like termini movi come like 3 word</td>\n",
       "    </tr>\n",
       "    <tr>\n",
       "      <th>1048570</th>\n",
       "      <td>4</td>\n",
       "      <td>[destinyhope92, im, great, thaank, wbuu]</td>\n",
       "      <td>destinyhope92 im great thaank wbuu</td>\n",
       "    </tr>\n",
       "    <tr>\n",
       "      <th>1048571</th>\n",
       "      <td>4</td>\n",
       "      <td>[cant, wait, til, date, weekend, ]</td>\n",
       "      <td>cant wait til date weekend</td>\n",
       "    </tr>\n",
       "  </tbody>\n",
       "</table>\n",
       "<p>1036908 rows × 3 columns</p>\n",
       "</div>"
      ],
      "text/plain": [
       "         target                                              text1  \\\n",
       "0             0  [upset, cant, updat, facebook, text, might, cr...   \n",
       "1             0  [kenichan, dive, mani, time, ball, manag, save...   \n",
       "2             0           [whole, bodi, feel, itchi, like, fire, ]   \n",
       "3             0     [nationwideclass, behav, im, mad, cant, see, ]   \n",
       "4             0                          [kwesidei, whole, crew, ]   \n",
       "...         ...                                                ...   \n",
       "1048567       4                     [grandma, make, dinenr, mum, ]   \n",
       "1048568       4  [midmorn, snack, time, bowl, chees, noodl, yum, ]   \n",
       "1048569       4  [shadela, say, like, termini, movi, come, like...   \n",
       "1048570       4           [destinyhope92, im, great, thaank, wbuu]   \n",
       "1048571       4                 [cant, wait, til, date, weekend, ]   \n",
       "\n",
       "                                                     text2  \n",
       "0        upset cant updat facebook text might cri resul...  \n",
       "1        kenichan dive mani time ball manag save 50 res...  \n",
       "2                         whole bodi feel itchi like fire   \n",
       "3                   nationwideclass behav im mad cant see   \n",
       "4                                     kwesidei whole crew   \n",
       "...                                                    ...  \n",
       "1048567                           grandma make dinenr mum   \n",
       "1048568           midmorn snack time bowl chees noodl yum   \n",
       "1048569     shadela say like termini movi come like 3 word  \n",
       "1048570                 destinyhope92 im great thaank wbuu  \n",
       "1048571                        cant wait til date weekend   \n",
       "\n",
       "[1036908 rows x 3 columns]"
      ]
     },
     "execution_count": 199,
     "metadata": {},
     "output_type": "execute_result"
    }
   ],
   "source": [
    "df"
   ]
  },
  {
   "cell_type": "code",
   "execution_count": 200,
   "id": "9b230d6e",
   "metadata": {},
   "outputs": [],
   "source": [
    "df.drop(columns=['text1'],inplace=True)"
   ]
  },
  {
   "cell_type": "markdown",
   "id": "70d66336",
   "metadata": {},
   "source": [
    "# Model Building"
   ]
  },
  {
   "cell_type": "code",
   "execution_count": 201,
   "id": "3ad4fa92",
   "metadata": {},
   "outputs": [],
   "source": [
    "from sklearn.feature_extraction.text import TfidfVectorizer\n",
    "tdidf=TfidfVectorizer()"
   ]
  },
  {
   "cell_type": "code",
   "execution_count": 202,
   "id": "4a08a2de",
   "metadata": {},
   "outputs": [],
   "source": [
    "X=tdidf.fit_transform(df['text2'])"
   ]
  },
  {
   "cell_type": "code",
   "execution_count": 203,
   "id": "7a5685ef",
   "metadata": {},
   "outputs": [],
   "source": [
    "y=df['target']"
   ]
  },
  {
   "cell_type": "code",
   "execution_count": 204,
   "id": "f9fb90eb",
   "metadata": {},
   "outputs": [],
   "source": [
    "X_train,X_test,y_train,y_test=train_test_split(X,y,test_size=0.2,random_state=2)"
   ]
  },
  {
   "cell_type": "code",
   "execution_count": 205,
   "id": "4541f930",
   "metadata": {},
   "outputs": [],
   "source": [
    "model=LogisticRegression()"
   ]
  },
  {
   "cell_type": "code",
   "execution_count": 206,
   "id": "37d7535b",
   "metadata": {},
   "outputs": [
    {
     "name": "stderr",
     "output_type": "stream",
     "text": [
      "C:\\Users\\mrsud\\anaconda3\\lib\\site-packages\\sklearn\\linear_model\\_logistic.py:814: ConvergenceWarning: lbfgs failed to converge (status=1):\n",
      "STOP: TOTAL NO. of ITERATIONS REACHED LIMIT.\n",
      "\n",
      "Increase the number of iterations (max_iter) or scale the data as shown in:\n",
      "    https://scikit-learn.org/stable/modules/preprocessing.html\n",
      "Please also refer to the documentation for alternative solver options:\n",
      "    https://scikit-learn.org/stable/modules/linear_model.html#logistic-regression\n",
      "  n_iter_i = _check_optimize_result(\n"
     ]
    },
    {
     "data": {
      "text/plain": [
       "LogisticRegression()"
      ]
     },
     "execution_count": 206,
     "metadata": {},
     "output_type": "execute_result"
    }
   ],
   "source": [
    "model.fit(X_train,y_train)"
   ]
  },
  {
   "cell_type": "code",
   "execution_count": 207,
   "id": "a9208aa9",
   "metadata": {},
   "outputs": [],
   "source": [
    "y_pred=model.predict(X_test)"
   ]
  },
  {
   "cell_type": "code",
   "execution_count": 210,
   "id": "1ac3e8ac",
   "metadata": {},
   "outputs": [],
   "source": [
    "accuracy=accuracy_score(y_test,y_pred)\n",
    "precision=precision_score(y_test,y_pred,average='weighted')"
   ]
  },
  {
   "cell_type": "code",
   "execution_count": 211,
   "id": "76d13ee2",
   "metadata": {},
   "outputs": [
    {
     "name": "stdout",
     "output_type": "stream",
     "text": [
      "accuracy score:  0.8360272347648301\n",
      "precision score:  0.8260856806179719\n"
     ]
    }
   ],
   "source": [
    "print('accuracy score: ',accuracy)\n",
    "print('precision score: ',precision)"
   ]
  },
  {
   "cell_type": "code",
   "execution_count": 212,
   "id": "d6084846",
   "metadata": {},
   "outputs": [
    {
     "data": {
      "text/plain": [
       "0.8360272347648301"
      ]
     },
     "execution_count": 212,
     "metadata": {},
     "output_type": "execute_result"
    }
   ],
   "source": [
    "model.score(X_test,y_test)"
   ]
  }
 ],
 "metadata": {
  "kernelspec": {
   "display_name": "Python 3 (ipykernel)",
   "language": "python",
   "name": "python3"
  },
  "language_info": {
   "codemirror_mode": {
    "name": "ipython",
    "version": 3
   },
   "file_extension": ".py",
   "mimetype": "text/x-python",
   "name": "python",
   "nbconvert_exporter": "python",
   "pygments_lexer": "ipython3",
   "version": "3.9.12"
  }
 },
 "nbformat": 4,
 "nbformat_minor": 5
}
